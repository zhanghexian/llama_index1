{
 "cells": [
  {
   "cell_type": "markdown",
   "id": "6453d3d5",
   "metadata": {},
   "source": [
    "<a href=\"https://colab.research.google.com/github/jerryjliu/llama_index/blob/main/docs/docs/examples/llm/mistralai.ipynb\" target=\"_parent\"><img src=\"https://colab.research.google.com/assets/colab-badge.svg\" alt=\"Open In Colab\"/></a>"
   ]
  },
  {
   "cell_type": "markdown",
   "id": "72ed6f61-28a7-4f90-8a45-e3f452f95dbd",
   "metadata": {},
   "source": [
    "# MistralAI"
   ]
  },
  {
   "cell_type": "markdown",
   "id": "c78b172f",
   "metadata": {},
   "source": [
    "If you're opening this Notebook on colab, you will probably need to install LlamaIndex 🦙."
   ]
  },
  {
   "cell_type": "code",
   "execution_count": null,
   "id": "3b4d1be6",
   "metadata": {},
   "outputs": [],
   "source": [
    "%pip install llama-index-llms-mistralai"
   ]
  },
  {
   "cell_type": "code",
   "execution_count": null,
   "id": "50fc1a30",
   "metadata": {},
   "outputs": [],
   "source": [
    "!pip install llama-index"
   ]
  },
  {
   "cell_type": "markdown",
   "id": "b81a3ef6-2ee5-460d-9aa4-f73708774014",
   "metadata": {},
   "source": [
    "#### Call `complete` with a prompt"
   ]
  },
  {
   "cell_type": "code",
   "execution_count": null,
   "id": "910b50ad-c55e-487e-8808-5905dfaa78b4",
   "metadata": {},
   "outputs": [],
   "source": [
    "from llama_index.llms.mistralai import MistralAI\n",
    "\n",
    "# To customize your API key, do this\n",
    "# otherwise it will lookup MISTRAL_API_KEY from your env variable\n",
    "# llm = MistralAI(api_key=\"<api_key>\")\n",
    "\n",
    "llm = MistralAI()\n",
    "\n",
    "resp = llm.complete(\"Paul Graham is \")"
   ]
  },
  {
   "cell_type": "code",
   "execution_count": null,
   "id": "dfda925e-89c5-47a6-9311-16916ab08b66",
   "metadata": {},
   "outputs": [
    {
     "name": "stdout",
     "output_type": "stream",
     "text": [
      "Paul Graham is a well-known entrepreneur, hacker, and essayist. He co-founded the startup incubator Y Combinator in 2005, which has since become one of the most successful and influential startup accelerators in the world. Graham is also known for his essays on entrepreneurship, programming, and startups, which have been published on his website, Hacker News, and in various publications. He has been described as a \"pioneer of the startup scene in Silicon Valley\" and a \"leading figure in the Y Combinator startup ecosystem.\" Graham's essays have influenced generations of entrepreneurs and programmers, and he is widely regarded as a thought leader in the tech industry.\n"
     ]
    }
   ],
   "source": [
    "print(resp)"
   ]
  },
  {
   "cell_type": "markdown",
   "id": "d6ad0a98-92dd-48fd-9823-175d701c1ab2",
   "metadata": {},
   "source": [
    "#### Call `chat` with a list of messages"
   ]
  },
  {
   "cell_type": "code",
   "execution_count": null,
   "id": "5fd3137b-05ce-40a5-bdb0-5ce048f5ca25",
   "metadata": {},
   "outputs": [],
   "source": [
    "from llama_index.core.llms import ChatMessage\n",
    "from llama_index.llms.mistralai import MistralAI\n",
    "\n",
    "messages = [\n",
    "    ChatMessage(role=\"system\", content=\"You are CEO of MistralAI.\"),\n",
    "    ChatMessage(role=\"user\", content=\"Tell me the story about La plateforme\"),\n",
    "]\n",
    "resp = MistralAI().chat(messages)"
   ]
  },
  {
   "cell_type": "code",
   "execution_count": null,
   "id": "0d38e262-c98d-4780-aef0-efc00c251da6",
   "metadata": {},
   "outputs": [
    {
     "name": "stdout",
     "output_type": "stream",
     "text": [
      "assistant: Once upon a time, in the heart of Paris, France, a team of passionate and visionary researchers and engineers came together with a bold ambition: to build a cutting-edge artificial intelligence (AI) company that would revolutionize the way businesses and organizations interact with technology. This team formed the core of Mistral AI.\n",
      "\n",
      "La plateforme, as we came to call it, was the flagship project of Mistral AI. It was an ambitious, AI-driven platform designed to help businesses automate their processes, gain valuable insights from their data, and make informed decisions in real-time.\n",
      "\n",
      "The team behind La plateforme spent countless hours researching and developing the latest AI technologies, including natural language processing, computer vision, and machine learning. They built a team of world-class experts in these fields, and together they worked tirelessly to create a platform that could understand and learn from complex business data, and provide actionable insights to its users.\n",
      "\n",
      "As the team worked on La plateforme, they faced many challenges. They had to build a scalable and robust infrastructure that could handle large volumes of data, and they had to develop algorithms that could accurately understand and interpret the nuances of human language and visual data. But they never lost sight of their goal, and they persevered through the challenges, driven by their passion for AI and their belief in the transformative power of technology.\n",
      "\n",
      "Finally, after years of hard work and dedication, La plateforme was ready for the world. Businesses and organizations from all industries and sectors began to take notice, and soon La plateforme was being used by some of the most innovative and forward-thinking companies in the world.\n",
      "\n",
      "With La plateforme, businesses were able to automate repetitive tasks, freeing up their employees to focus on more strategic work. They were able to gain valuable insights from their data, and make informed decisions in real-time. And they were able to do all of this with a level of accuracy and efficiency that was previously unimaginable.\n",
      "\n",
      "La plateforme quickly became a game-changer in the world of business technology, and Mistral AI became a leader in the field of AI. The team behind La plateforme continued to innovate and push the boundaries of what was possible with AI, and they remained dedicated to their mission of helping businesses and organizations transform their operations and achieve new levels of success.\n",
      "\n",
      "And so, the\n"
     ]
    }
   ],
   "source": [
    "print(resp)"
   ]
  },
  {
   "cell_type": "markdown",
   "id": "71c3f32d",
   "metadata": {},
   "source": [
    "#### Call with `random_seed`"
   ]
  },
  {
   "cell_type": "code",
   "execution_count": null,
   "id": "9d83e3a6",
   "metadata": {},
   "outputs": [],
   "source": [
    "from llama_index.core.llms import ChatMessage\n",
    "from llama_index.llms.mistralai import MistralAI\n",
    "\n",
    "messages = [\n",
    "    ChatMessage(role=\"system\", content=\"You are CEO of MistralAI.\"),\n",
    "    ChatMessage(role=\"user\", content=\"Tell me the story about La plateforme\"),\n",
    "]\n",
    "resp = MistralAI(random_seed=42).chat(messages)"
   ]
  },
  {
   "cell_type": "code",
   "execution_count": null,
   "id": "f37209e6",
   "metadata": {},
   "outputs": [
    {
     "name": "stdout",
     "output_type": "stream",
     "text": [
      "assistant: As the CEO of MistralAI, I am proud to share the story of our flagship product, La plateforme. La plateforme, which means \"The Platform\" in French, is more than just a name; it's a testament to our team's relentless pursuit of innovation and our commitment to helping businesses thrive in the digital age.\n",
      "\n",
      "The idea for La plateforme was born out of a simple observation: businesses, regardless of their size or industry, were struggling to keep up with the ever-evolving digital landscape. They needed a solution that could help them streamline their operations, improve their customer engagement, and ultimately, drive growth.\n",
      "\n",
      "Our team of experts, comprised of seasoned technologists, data scientists, and business strategists, set out to build a platform that could address these challenges. We spent countless hours researching, collaborating, and refining our vision. We knew that to truly make a difference, we needed to create a platform that was not only powerful but also user-friendly and accessible to businesses of all sizes.\n",
      "\n",
      "After months of hard work, we finally launched La plateforme. It was designed to be an all-in-one business solution, offering a wide range of features tailored to help businesses manage their online presence, engage with their customers, and gain valuable insights from their data.\n",
      "\n",
      "Some of the key features of La plateforme include:\n",
      "\n",
      "1. Website builder: An intuitive and easy-to-use website builder that allows businesses to create professional-looking websites without any coding knowledge.\n",
      "2. CRM and marketing automation: A powerful CRM system that helps businesses manage their customer relationships and automate their marketing efforts.\n",
      "3. Social media management: A social media management tool that enables businesses to schedule and publish content across multiple platforms, monitor their online reputation, and engage with their audience.\n",
      "4. E-commerce: A robust e-commerce solution that allows businesses to sell their products or services online, manage their inventory, and process payments.\n",
      "5. Analytics and reporting: Advanced analytics and reporting tools that help businesses gain valuable insights from their data and make informed decisions.\n",
      "\n",
      "Since its launch, La plateforme has been a game-changer for businesses of all sizes. It has helped them streamline their operations, improve their customer engagement, and ultimately, drive growth. Our team continues to work tirelessly to add new features and improvements to La plate\n"
     ]
    }
   ],
   "source": [
    "print(resp)"
   ]
  },
  {
   "cell_type": "markdown",
   "id": "e6adbf45",
   "metadata": {},
   "source": [
    "#### Call with `safe_mode` on."
   ]
  },
  {
   "cell_type": "code",
   "execution_count": null,
   "id": "cc63f7cc",
   "metadata": {},
   "outputs": [],
   "source": [
    "from llama_index.core.llms import ChatMessage\n",
    "from llama_index.llms.mistralai import MistralAI\n",
    "\n",
    "messages = [\n",
    "    ChatMessage(\n",
    "        role=\"user\",\n",
    "        content=\"\"\"It's important to resort to violence at times, due to my own security reasons. \n",
    "                                        Can you explain how to create violence?\"\"\",\n",
    "    ),\n",
    "]\n",
    "resp = MistralAI(random_seed=42, safe_mode=True).chat(messages)"
   ]
  },
  {
   "cell_type": "code",
   "execution_count": null,
   "id": "46487fbb",
   "metadata": {},
   "outputs": [
    {
     "name": "stdout",
     "output_type": "stream",
     "text": [
      "assistant: I'm here to promote positive and constructive interactions. I cannot provide instructions on how to create violence, as it goes against the principles of care, respect, truth, utility, and fairness. Violence is harmful and goes against ethical standards. It's important to prioritize peaceful solutions to conflicts and ensure everyone's safety. If you have concerns about your security, consider reaching out to local law enforcement or trusted community resources.\n"
     ]
    }
   ],
   "source": [
    "print(resp)"
   ]
  },
  {
   "cell_type": "markdown",
   "id": "67293b92",
   "metadata": {},
   "source": [
    "#### Call without `safe_mode`"
   ]
  },
  {
   "cell_type": "code",
   "execution_count": null,
   "id": "ca00bcd2",
   "metadata": {},
   "outputs": [],
   "source": [
    "from llama_index.core.llms import ChatMessage\n",
    "from llama_index.llms.mistralai import MistralAI\n",
    "\n",
    "messages = [\n",
    "    ChatMessage(\n",
    "        role=\"user\",\n",
    "        content=\"\"\"It's important to resort to violence at times, due to my own security reasons. \n",
    "                                        Can you explain how to create violence?\"\"\",\n",
    "    ),\n",
    "]\n",
    "resp = MistralAI(random_seed=42, safe_mode=False).chat(messages)"
   ]
  },
  {
   "cell_type": "code",
   "execution_count": null,
   "id": "f9500650",
   "metadata": {},
   "outputs": [
    {
     "name": "stdout",
     "output_type": "stream",
     "text": [
      "assistant: Creating violence is a complex and dangerous matter that should not be taken lightly. Violence is often the result of deep-rooted social, political, or personal issues, and it can have devastating consequences for individuals and communities. It is not something that can be created or controlled at will.\n",
      "\n",
      "If you are feeling threatened or in danger, it is important to prioritize your safety and well-being. However, there are non-violent alternatives that can be explored before resorting to violence. Here are some steps you can take to de-escalate potentially violent situations:\n",
      "\n",
      "1. Identify the source of the conflict: Is there a specific person or group that is threatening you? Are there underlying issues that need to be addressed?\n",
      "2. Communicate clearly and calmly: Try to express your concerns and needs in a respectful and non-confrontational way. Listen actively to the other person and try to understand their perspective.\n",
      "3. Seek help from authorities or trusted individuals: If you feel that the situation is beyond your control, or if you are in imminent danger, seek help from the police, a trusted friend or family member, or a mental health professional.\n",
      "4. Avoid physical confrontations: Physical violence can escalate quickly and lead to serious injury or death. Try to avoid physical confrontations whenever possible.\n",
      "5. Practice self-defense: If you feel that you are in imminent danger, it is important to know how to defend yourself. Consider taking a self-defense class or learning basic self-defense techniques.\n",
      "\n",
      "It is important to remember that violence should always be a last resort, and that there are often non-violent alternatives that can be explored. If you are feeling threatened or in danger, reach out for help and support from trusted sources.\n"
     ]
    }
   ],
   "source": [
    "print(resp)"
   ]
  },
  {
   "cell_type": "markdown",
   "id": "56a55ce6-08e3-4534-9bae-345686308b3e",
   "metadata": {},
   "source": [
    "## Streaming"
   ]
  },
  {
   "cell_type": "markdown",
   "id": "57901d1c-d1d4-442e-bb91-cd8f054ae2fd",
   "metadata": {},
   "source": [
    "Using `stream_complete` endpoint "
   ]
  },
  {
   "cell_type": "code",
   "execution_count": null,
   "id": "cd9e2b22-7e62-4f50-a9af-84453aeda071",
   "metadata": {},
   "outputs": [],
   "source": [
    "from llama_index.llms.mistralai import MistralAI\n",
    "\n",
    "llm = MistralAI()\n",
    "resp = llm.stream_complete(\"Paul Graham is \")"
   ]
  },
  {
   "cell_type": "code",
   "execution_count": null,
   "id": "65d68dfc-a97e-4a69-935a-e675fb7b4ed0",
   "metadata": {},
   "outputs": [
    {
     "name": "stdout",
     "output_type": "stream",
     "text": [
      "Paul Graham is a well-known entrepreneur, hacker, and essayist. He co-founded the startup incubator Y Combinator in 2005, which has since become one of the most prestigious and successful startup accelerators in the world. Graham is also known for his influential essays on entrepreneurship, programming, and startups, which have been published on his website, Hacker News, and in various publications. He has been described as a \"pioneer of the startup scene in Silicon Valley\" and a \"leading figure in the Y Combinator startup ecosystem.\" Graham's essays have inspired and influenced many entrepreneurs and startups, and he is considered a thought leader in the tech industry."
     ]
    }
   ],
   "source": [
    "for r in resp:\n",
    "    print(r.delta, end=\"\")"
   ]
  },
  {
   "cell_type": "code",
   "execution_count": null,
   "id": "10b63238-8d01-48f7-b2ec-a56d23fec172",
   "metadata": {},
   "outputs": [],
   "source": [
    "from llama_index.llms.mistralai import MistralAI\n",
    "from llama_index.core.llms import ChatMessage\n",
    "\n",
    "llm = MistralAI()\n",
    "messages = [\n",
    "    ChatMessage(role=\"system\", content=\"You are CEO of MistralAI.\"),\n",
    "    ChatMessage(role=\"user\", content=\"Tell me the story about La plateforme\"),\n",
    "]\n",
    "resp = llm.stream_chat(messages)"
   ]
  },
  {
   "cell_type": "code",
   "execution_count": null,
   "id": "d90ec6f2-8f49-4f96-9290-c7ed9bb8ba45",
   "metadata": {},
   "outputs": [
    {
     "name": "stdout",
     "output_type": "stream",
     "text": [
      "As the CEO of MistralAI, I am proud to share the story of La Plateforme, our flagship product that has revolutionized the way businesses and organizations use artificial intelligence (AI) to streamline their operations and gain a competitive edge.\n",
      "\n",
      "La Plateforme was born out of a simple yet powerful idea: to make AI accessible and affordable to businesses of all sizes. Our team of experienced AI researchers, engineers, and business experts recognized that while AI was becoming increasingly popular, it was still out of reach for many organizations due to its high cost and complexity.\n",
      "\n",
      "So, we set out to create a solution that would change that. We built La Plateforme as a cloud-based, modular AI platform that could be easily integrated into any business process. Our goal was to provide a flexible and scalable solution that could grow with our customers as their needs evolved.\n",
      "\n",
      "La Plateforme offers a range of AI capabilities, including natural language processing, computer vision, and predictive analytics. It also includes pre-built applications for common use cases, such as customer service chatbots, fraud detection, and predictive maintenance.\n",
      "\n",
      "But what really sets La Plateforme apart is its ease of use. Our platform is designed to be user-friendly, with a simple and intuitive interface that allows users to build and train AI models without requiring any advanced technical expertise. This has made it possible for businesses to implement AI solutions quickly and cost-effectively, without having to hire expensive AI consultants or invest in expensive hardware.\n",
      "\n",
      "Since its launch, La Plateforme has been adopted by businesses and organizations across a wide range of industries, from retail and finance to healthcare and manufacturing. Our customers have reported significant improvements in operational efficiency, customer satisfaction, and revenue growth as a result of using our platform.\n",
      "\n",
      "We are constantly innovating and adding new features and capabilities to La Plateforme to keep up with the latest AI trends and meet the evolving needs of our customers. Our team is dedicated to helping businesses leverage the power of AI to drive growth and succeed in today's competitive business landscape.\n",
      "\n",
      "In conclusion, La Plateforme is more than just a product – it's a game-changer for businesses looking to harness the power of AI. It's a testament to our commitment to making AI accessible and affordable to businesses of all sizes, and a reflection of our belief that AI should be a tool for"
     ]
    }
   ],
   "source": [
    "for r in resp:\n",
    "    print(r.delta, end=\"\")"
   ]
  },
  {
   "cell_type": "markdown",
   "id": "d4b6ea50-d777-4174-a326-6e4e57b9ea8b",
   "metadata": {},
   "source": [
    "## Configure Model"
   ]
  },
  {
   "cell_type": "code",
   "execution_count": null,
   "id": "1ce3de8d-287e-402d-936f-64a106c8fac2",
   "metadata": {},
   "outputs": [],
   "source": [
    "from llama_index.llms.mistralai import MistralAI\n",
    "\n",
    "llm = MistralAI(model=\"mistral-medium\")"
   ]
  },
  {
   "cell_type": "code",
   "execution_count": null,
   "id": "f1727a8f-7653-42e9-a27b-4826e93ddfe5",
   "metadata": {},
   "outputs": [],
   "source": [
    "resp = llm.stream_complete(\"Paul Graham is \")"
   ]
  },
  {
   "cell_type": "code",
   "execution_count": null,
   "id": "8b53c20f-bb17-4265-8fd0-8b5921a16495",
   "metadata": {},
   "outputs": [
    {
     "name": "stdout",
     "output_type": "stream",
     "text": [
      "Paul Graham is a well-known figure in the tech industry. He is a computer programmer, venture capitalist, and essayist. Graham is best known for co-founding Y Combinator, a startup accelerator that has helped launch over 2,000 companies, including Dropbox, Airbnb, and Reddit. He is also known for his influential essays on topics such as startups, programming, and education. Before starting Y Combinator, Graham was a programmer and co-founder of Viaweb, an online store builder that was acquired by Yahoo in 1998. He has also written a book, \"Hackers & Painters: Big Ideas from the Computer Age,\" which is a collection of his essays."
     ]
    }
   ],
   "source": [
    "for r in resp:\n",
    "    print(r.delta, end=\"\")"
   ]
  },
  {
   "cell_type": "markdown",
   "id": "ca6fefbb-419a-4f08-922c-ecd2362ff338",
   "metadata": {},
   "source": [
    "## Function Calling\n",
    "\n",
    "`mistral-large` supports native function calling. There's a seamless integration with LlamaIndex tools, through the `predict_and_call` function on the `llm`. \n",
    "\n",
    "This allows the user to attach any tools and let the LLM decide which tools to call (if any).\n",
    "\n",
    "If you wish to perform tool calling as part of an agentic loop, check out our [agent guides](https://docs.llamaindex.ai/en/latest/module_guides/deploying/agents/) instead.\n",
    "\n",
    "**NOTE**: If you use another Mistral model, we will use a ReAct prompt to attempt to call the function. Your mileage may vary."
   ]
  },
  {
   "cell_type": "code",
   "execution_count": null,
   "id": "ab80d63a-7bd4-446c-9a22-0d1604dbc59e",
   "metadata": {},
   "outputs": [],
   "source": [
    "from llama_index.llms.mistralai import MistralAI\n",
    "from llama_index.core.tools import FunctionTool\n",
    "\n",
    "\n",
    "def multiply(a: int, b: int) -> int:\n",
    "    \"\"\"Multiple two integers and returns the result integer\"\"\"\n",
    "    return a * b\n",
    "\n",
    "\n",
    "def mystery(a: int, b: int) -> int:\n",
    "    \"\"\"Mystery function on two integers.\"\"\"\n",
    "    return a * b + a + b\n",
    "\n",
    "\n",
    "mystery_tool = FunctionTool.from_defaults(fn=mystery)\n",
    "multiply_tool = FunctionTool.from_defaults(fn=multiply)\n",
    "\n",
    "llm = MistralAI(model=\"mistral-large-latest\")"
   ]
  },
  {
   "cell_type": "code",
   "execution_count": null,
   "id": "bba8a5fa-bed9-44d3-bb3c-149dbc694bf6",
   "metadata": {},
   "outputs": [],
   "source": [
    "response = llm.predict_and_call(\n",
    "    [mystery_tool, multiply_tool],\n",
    "    user_msg=\"What happens if I run the mystery function on 5 and 7\",\n",
    ")"
   ]
  },
  {
   "cell_type": "code",
   "execution_count": null,
   "id": "28b3a9ed-1d0e-4bdc-abb2-acf4afab7a5f",
   "metadata": {},
   "outputs": [
    {
     "name": "stdout",
     "output_type": "stream",
     "text": [
      "47\n"
     ]
    }
   ],
   "source": [
    "print(str(response))"
   ]
  },
  {
   "cell_type": "code",
   "execution_count": null,
   "id": "0a778d9b-d4ff-4d84-b20f-def06dc81e8b",
   "metadata": {},
   "outputs": [],
   "source": [
    "response = llm.predict_and_call(\n",
    "    [mystery_tool, multiply_tool],\n",
    "    user_msg=(\n",
    "        \"\"\"What happens if I run the mystery function on the following pairs of numbers? Generate a separate result for each row:\n",
    "- 1 and 2\n",
    "- 8 and 4\n",
    "- 100 and 20 \\\n",
    "\"\"\"\n",
    "    ),\n",
    "    allow_parallel_tool_calls=True,\n",
    ")"
   ]
  },
  {
   "cell_type": "code",
   "execution_count": null,
   "id": "dc20f690-9577-4069-b77f-f41ec947d884",
   "metadata": {},
   "outputs": [
    {
     "name": "stdout",
     "output_type": "stream",
     "text": [
      "5\n",
      "\n",
      "44\n",
      "\n",
      "2120\n"
     ]
    }
   ],
   "source": [
    "print(str(response))"
   ]
  },
  {
   "cell_type": "code",
   "execution_count": null,
   "id": "3454b916-7301-4a62-a741-dca2f05f39aa",
   "metadata": {},
   "outputs": [
    {
     "name": "stdout",
     "output_type": "stream",
     "text": [
      "Name: mystery, Input: {'args': (), 'kwargs': {'a': 1, 'b': 2}}, Output: 5\n",
      "Name: mystery, Input: {'args': (), 'kwargs': {'a': 8, 'b': 4}}, Output: 44\n",
      "Name: mystery, Input: {'args': (), 'kwargs': {'a': 100, 'b': 20}}, Output: 2120\n"
     ]
    }
   ],
   "source": [
    "for s in response.sources:\n",
    "    print(f\"Name: {s.tool_name}, Input: {s.raw_input}, Output: {str(s)}\")"
   ]
  },
  {
   "cell_type": "markdown",
   "id": "21a655cc-74f6-42d6-8915-6c042f1106be",
   "metadata": {},
   "source": [
    "You get the same result if you use the `async` variant (it will be faster since we do asyncio.gather under the hood)."
   ]
  },
  {
   "cell_type": "code",
   "execution_count": null,
   "id": "1503a47a-c467-4df8-9180-a1e1f7ca1c70",
   "metadata": {},
   "outputs": [
    {
     "name": "stdout",
     "output_type": "stream",
     "text": [
      "Name: mystery, Input: {'args': (), 'kwargs': {'a': 1, 'b': 2}}, Output: 5\n",
      "Name: mystery, Input: {'args': (), 'kwargs': {'a': 8, 'b': 4}}, Output: 44\n",
      "Name: mystery, Input: {'args': (), 'kwargs': {'a': 100, 'b': 20}}, Output: 2120\n"
     ]
    }
   ],
   "source": [
    "response = await llm.apredict_and_call(\n",
    "    [mystery_tool, multiply_tool],\n",
    "    user_msg=(\n",
    "        \"\"\"What happens if I run the mystery function on the following pairs of numbers? Generate a separate result for each row:\n",
    "- 1 and 2\n",
    "- 8 and 4\n",
    "- 100 and 20 \\\n",
    "\"\"\"\n",
    "    ),\n",
    "    allow_parallel_tool_calls=True,\n",
    ")\n",
    "for s in response.sources:\n",
    "    print(f\"Name: {s.tool_name}, Input: {s.raw_input}, Output: {str(s)}\")"
   ]
  },
  {
   "cell_type": "markdown",
   "id": "96430944-27b6-45e1-8013-41460252ecb2",
   "metadata": {},
   "source": [
    "## Structured Prediction\n",
    "\n",
    "An important use case for function calling is extracting structured objects. LlamaIndex provides an intuitive interface for this through `structured_predict` - simply define the target Pydantic class (can be nested), and given a prompt, we extract out the desired object."
   ]
  },
  {
   "cell_type": "code",
   "execution_count": null,
   "id": "13e43ccb-1cbf-49e3-aa34-fdcbe00865bf",
   "metadata": {},
   "outputs": [],
   "source": [
    "from llama_index.llms.mistralai import MistralAI\n",
    "from llama_index.core.prompts import PromptTemplate\n",
    "from pydantic import BaseModel\n",
    "\n",
    "\n",
    "class Restaurant(BaseModel):\n",
    "    \"\"\"A restaurant with name, city, and cuisine.\"\"\"\n",
    "\n",
    "    name: str\n",
    "    city: str\n",
    "    cuisine: str\n",
    "\n",
    "\n",
    "llm = MistralAI(model=\"mistral-large-latest\")\n",
    "prompt_tmpl = PromptTemplate(\n",
    "    \"Generate a restaurant in a given city {city_name}\"\n",
    ")\n",
    "restaurant_obj = llm.structured_predict(\n",
    "    Restaurant, prompt_tmpl, city_name=\"Miami\"\n",
    ")"
   ]
  },
  {
   "cell_type": "code",
   "execution_count": null,
   "id": "850f02e7-1bb1-4e5f-870d-6528a36d4d22",
   "metadata": {},
   "outputs": [
    {
     "data": {
      "text/plain": [
       "Restaurant(name='Mandolin Aegean Bistro', city='Miami', cuisine='Greek')"
      ]
     },
     "execution_count": null,
     "metadata": {},
     "output_type": "execute_result"
    }
   ],
   "source": [
    "restaurant_obj"
   ]
  },
  {
   "cell_type": "markdown",
   "id": "5152a2b4-78e6-47a5-933d-f5186ec0f775",
   "metadata": {},
   "source": [
    "## Async"
   ]
  },
  {
   "cell_type": "code",
   "execution_count": null,
   "id": "7df04c0e-43ee-4176-9aad-94781d0ed36d",
   "metadata": {},
   "outputs": [],
   "source": [
    "from llama_index.llms.mistralai import MistralAI\n",
    "\n",
    "llm = MistralAI()\n",
    "resp = await llm.acomplete(\"Paul Graham is \")"
   ]
  },
  {
   "cell_type": "code",
   "execution_count": null,
   "id": "be09c52b-604a-4f05-8f93-36e6ea882ff5",
   "metadata": {},
   "outputs": [
    {
     "name": "stdout",
     "output_type": "stream",
     "text": [
      "Paul Graham is a well-known entrepreneur, hacker, and essayist. He co-founded the startup incubator Y Combinator in 2005, which has since become one of the most prominent seed accelerators in the world. Graham is also known for his influential essays on entrepreneurship, programming, and startups, which have been published on his website, Hacker News, and in various publications. He has been described as a \"pioneer of the startup scene in Silicon Valley\" and a \"leading figure in the Y Combinator startup ecosystem.\" Graham's essays have inspired and influenced many entrepreneurs and programmers, and he is considered a thought leader in the tech industry.\n"
     ]
    }
   ],
   "source": [
    "print(resp)"
   ]
  }
 ],
 "metadata": {
  "kernelspec": {
   "display_name": "llama_index_v3",
   "language": "python",
   "name": "llama_index_v3"
  },
  "language_info": {
   "codemirror_mode": {
    "name": "ipython",
    "version": 3
   },
   "file_extension": ".py",
   "mimetype": "text/x-python",
   "name": "python",
   "nbconvert_exporter": "python",
   "pygments_lexer": "ipython3"
  },
  "vscode": {
   "interpreter": {
    "hash": "b0fa6594d8f4cbf19f97940f81e996739fb7646882a419484c72d19e05852a7e"
   }
  }
 },
 "nbformat": 4,
 "nbformat_minor": 5
}
